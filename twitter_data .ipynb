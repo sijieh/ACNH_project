{
 "cells": [
  {
   "cell_type": "code",
   "execution_count": 3,
   "id": "2efb52fa",
   "metadata": {},
   "outputs": [],
   "source": [
    "from api_key import api_key\n",
    "from api_key import api_key_secret\n",
    "from api_key import bearer_token\n",
    "from pytwitter import Api\n",
    "api = Api(bearer_token = b)"
   ]
  },
  {
   "cell_type": "code",
   "execution_count": 4,
   "id": "3ee28a3c",
   "metadata": {},
   "outputs": [
    {
     "name": "stdout",
     "output_type": "stream",
     "text": [
      "MWYK5gS1U744y835iLC5fE3nm\n"
     ]
    }
   ],
   "source": [
    "#using cURL\n",
    "curl --request GET 'https://api.twitter.com/2/tweets/search/recent?query=from:twitterdev' --header 'Authorization: Bearer $BEARER_TOKEN'"
   ]
  },
  {
   "cell_type": "code",
   "execution_count": null,
   "id": "24c086b4",
   "metadata": {},
   "outputs": [],
   "source": []
  }
 ],
 "metadata": {
  "kernelspec": {
   "display_name": "Python [conda env:PythonDate] *",
   "language": "python",
   "name": "conda-env-PythonDate-py"
  },
  "language_info": {
   "codemirror_mode": {
    "name": "ipython",
    "version": 3
   },
   "file_extension": ".py",
   "mimetype": "text/x-python",
   "name": "python",
   "nbconvert_exporter": "python",
   "pygments_lexer": "ipython3",
   "version": "3.6.10"
  }
 },
 "nbformat": 4,
 "nbformat_minor": 5
}
