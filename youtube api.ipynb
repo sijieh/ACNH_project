{
 "cells": [
  {
   "cell_type": "code",
   "execution_count": 3,
   "id": "862a538b",
   "metadata": {},
   "outputs": [],
   "source": [
    "import argparse\n",
    "\n",
    "from googleapiclient.discovery import build\n",
    "from googleapiclient.errors import HttpError\n",
    "from api_key import yt_api_key"
   ]
  },
  {
   "cell_type": "code",
   "execution_count": 4,
   "id": "e0449397",
   "metadata": {},
   "outputs": [],
   "source": [
    "DEVELOPER_KEY = yt_api_key\n",
    "YOUTUBE_API_SERVICE_NAME = 'youtube'\n",
    "YOUTUBE_API_VERSION = 'v3'"
   ]
  },
  {
   "cell_type": "code",
   "execution_count": 10,
   "id": "c32d6150",
   "metadata": {},
   "outputs": [],
   "source": [
    "def youtube_search(options):\n",
    "  youtube = build(YOUTUBE_API_SERVICE_NAME, YOUTUBE_API_VERSION,\n",
    "    developerKey=DEVELOPER_KEY)\n",
    "\n",
    "  # Call the search.list method to retrieve results matching the specified\n",
    "  # query term.\n",
    "  search_response = youtube.search().list(\n",
    "    q=options.q,\n",
    "    part='id,snippet',\n",
    "    maxResults=options.max_results\n",
    "  ).execute()\n",
    "\n",
    "  videos = []\n",
    "  channels = []\n",
    "  playlists = []\n",
    "\n",
    "  for search_result in search_response.get('items', []):\n",
    "    if search_result['id']['kind'] == 'youtube#video':\n",
    "      videos.append('%s (%s)' % (search_result['snippet']['title'],\n",
    "                                 search_result['id']['videoId']))\n",
    "    elif search_result['id']['kind'] == 'youtube#channel':\n",
    "      channels.append('%s (%s)' % (search_result['snippet']['title'],\n",
    "                                   search_result['id']['channelId']))\n",
    "    elif search_result['id']['kind'] == 'youtube#playlist':\n",
    "      playlists.append('%s (%s)' % (search_result['snippet']['title'],\n",
    "                                    search_result['id']['playlistId']))\n",
    "\n",
    "  print ('Videos:\\n', '\\n'.join(videos), '\\n')\n",
    "  print ('Channels:\\n', '\\n'.join(channels), '\\n')\n",
    "  print ('Playlists:\\n', '\\n'.join(playlists), '\\n')"
   ]
  },
  {
   "cell_type": "code",
   "execution_count": 17,
   "id": "569baaf0",
   "metadata": {},
   "outputs": [
    {
     "name": "stderr",
     "output_type": "stream",
     "text": [
      "usage: ipykernel_launcher.py [-h] [--q Q] [--max-results MAX_RESULTS]\n",
      "ipykernel_launcher.py: error: unrecognized arguments: -f /Users/xiaokunyu/Library/Jupyter/runtime/kernel-6d850fff-4276-4a85-bb07-87ecbe491394.json\n"
     ]
    },
    {
     "ename": "SystemExit",
     "evalue": "2",
     "output_type": "error",
     "traceback": [
      "An exception has occurred, use %tb to see the full traceback.\n",
      "\u001b[0;31mSystemExit\u001b[0m\u001b[0;31m:\u001b[0m 2\n"
     ]
    }
   ],
   "source": [
    "if __name__ == '__main__':\n",
    "  parser = argparse.ArgumentParser()\n",
    "  parser.add_argument('--q', help='Search term', default='Google')\n",
    "  parser.add_argument('--max-results', help='Max results', default=25)\n",
    "  args = parser.parse_args()\n",
    "\n",
    "  try:\n",
    "    youtube_search(args)\n",
    "  except (HttpError, e):\n",
    "    print ('An HTTP error %d occurred:\\n%s' % (e.resp.status, e.content))"
   ]
  },
  {
   "cell_type": "code",
   "execution_count": 18,
   "id": "71262102",
   "metadata": {},
   "outputs": [
    {
     "ename": "AttributeError",
     "evalue": "'str' object has no attribute 'q'",
     "output_type": "error",
     "traceback": [
      "\u001b[0;31m---------------------------------------------------------------------------\u001b[0m",
      "\u001b[0;31mAttributeError\u001b[0m                            Traceback (most recent call last)",
      "\u001b[0;32m<ipython-input-18-bf48c88f6fc6>\u001b[0m in \u001b[0;36m<module>\u001b[0;34m\u001b[0m\n\u001b[0;32m----> 1\u001b[0;31m \u001b[0myoutube_search\u001b[0m\u001b[0;34m(\u001b[0m\u001b[0;34m'meditation'\u001b[0m\u001b[0;34m)\u001b[0m\u001b[0;34m\u001b[0m\u001b[0;34m\u001b[0m\u001b[0m\n\u001b[0m\u001b[1;32m      2\u001b[0m \u001b[0mprint\u001b[0m\u001b[0;34m(\u001b[0m\u001b[0mvideos\u001b[0m\u001b[0;34m)\u001b[0m\u001b[0;34m\u001b[0m\u001b[0;34m\u001b[0m\u001b[0m\n",
      "\u001b[0;32m<ipython-input-10-748d682691fe>\u001b[0m in \u001b[0;36myoutube_search\u001b[0;34m(options)\u001b[0m\n\u001b[1;32m      6\u001b[0m   \u001b[0;31m# query term.\u001b[0m\u001b[0;34m\u001b[0m\u001b[0;34m\u001b[0m\u001b[0;34m\u001b[0m\u001b[0m\n\u001b[1;32m      7\u001b[0m   search_response = youtube.search().list(\n\u001b[0;32m----> 8\u001b[0;31m     \u001b[0mq\u001b[0m\u001b[0;34m=\u001b[0m\u001b[0moptions\u001b[0m\u001b[0;34m.\u001b[0m\u001b[0mq\u001b[0m\u001b[0;34m,\u001b[0m\u001b[0;34m\u001b[0m\u001b[0;34m\u001b[0m\u001b[0m\n\u001b[0m\u001b[1;32m      9\u001b[0m     \u001b[0mpart\u001b[0m\u001b[0;34m=\u001b[0m\u001b[0;34m'id,snippet'\u001b[0m\u001b[0;34m,\u001b[0m\u001b[0;34m\u001b[0m\u001b[0;34m\u001b[0m\u001b[0m\n\u001b[1;32m     10\u001b[0m     \u001b[0mmaxResults\u001b[0m\u001b[0;34m=\u001b[0m\u001b[0moptions\u001b[0m\u001b[0;34m.\u001b[0m\u001b[0mmax_results\u001b[0m\u001b[0;34m\u001b[0m\u001b[0;34m\u001b[0m\u001b[0m\n",
      "\u001b[0;31mAttributeError\u001b[0m: 'str' object has no attribute 'q'"
     ]
    }
   ],
   "source": [
    "youtube_search('meditation')\n",
    "print(videos)"
   ]
  },
  {
   "cell_type": "code",
   "execution_count": 19,
   "id": "837fe704",
   "metadata": {},
   "outputs": [],
   "source": [
    "youtube = build('youtube','v3',developerKey=yt_api_key)"
   ]
  },
  {
   "cell_type": "code",
   "execution_count": 20,
   "id": "f8fe9954",
   "metadata": {},
   "outputs": [
    {
     "data": {
      "text/plain": [
       "googleapiclient.discovery.Resource"
      ]
     },
     "execution_count": 20,
     "metadata": {},
     "output_type": "execute_result"
    }
   ],
   "source": [
    "type(youtube)"
   ]
  },
  {
   "cell_type": "code",
   "execution_count": 25,
   "id": "ae857e18",
   "metadata": {},
   "outputs": [],
   "source": [
    "req = youtube.search().list(q = 'meditation music' , part = 'snippet', type = 'video')"
   ]
  },
  {
   "cell_type": "code",
   "execution_count": 26,
   "id": "c7660797",
   "metadata": {},
   "outputs": [],
   "source": [
    "res = req.execute()"
   ]
  },
  {
   "cell_type": "code",
   "execution_count": 27,
   "id": "8fab8a23",
   "metadata": {},
   "outputs": [
    {
     "data": {
      "text/plain": [
       "{'kind': 'youtube#searchListResponse',\n",
       " 'etag': 'RBuhGvlaOXRHz6PNJr-Z-iS-n3c',\n",
       " 'nextPageToken': 'CAUQAA',\n",
       " 'regionCode': 'AU',\n",
       " 'pageInfo': {'totalResults': 1000000, 'resultsPerPage': 5},\n",
       " 'items': [{'kind': 'youtube#searchResult',\n",
       "   'etag': 'H6alTyLYMM-YfYeLHafgKdrOSgo',\n",
       "   'id': {'kind': 'youtube#video', 'videoId': 'op_6YZJNxPU'},\n",
       "   'snippet': {'publishedAt': '2022-04-01T17:56:20Z',\n",
       "    'channelId': 'UCwobzUc3z-0PrFpoRxNszXQ',\n",
       "    'title': '🔴 Relaxing Music 24/7, Stress Relief Music, Sleep Music, Meditation Music, Study, Calming Music',\n",
       "    'description': 'Get the new Yellow Brick Cinema iOS app for a 7-day FREE trial: https://apple.co/30uHqHe Relaxing Music 24/7, Stress Relief ...',\n",
       "    'thumbnails': {'default': {'url': 'https://i.ytimg.com/vi/op_6YZJNxPU/default_live.jpg',\n",
       "      'width': 120,\n",
       "      'height': 90},\n",
       "     'medium': {'url': 'https://i.ytimg.com/vi/op_6YZJNxPU/mqdefault_live.jpg',\n",
       "      'width': 320,\n",
       "      'height': 180},\n",
       "     'high': {'url': 'https://i.ytimg.com/vi/op_6YZJNxPU/hqdefault_live.jpg',\n",
       "      'width': 480,\n",
       "      'height': 360}},\n",
       "    'channelTitle': 'Yellow Brick Cinema - Relaxing Music',\n",
       "    'liveBroadcastContent': 'live',\n",
       "    'publishTime': '2022-04-01T17:56:20Z'}},\n",
       "  {'kind': 'youtube#searchResult',\n",
       "   'etag': '73pa_BtTX7vi10NTAyzY-P5dLII',\n",
       "   'id': {'kind': 'youtube#video', 'videoId': 'e358oMDzGRg'},\n",
       "   'snippet': {'publishedAt': '2022-03-31T17:58:43Z',\n",
       "    'channelId': 'UCwobzUc3z-0PrFpoRxNszXQ',\n",
       "    'title': '🔴 Relaxing Music 24/7, Stress Relief Music, Sleep Music, Meditation Music, Study, Calming Music',\n",
       "    'description': 'Get the new Yellow Brick Cinema iOS app for a 7-day FREE trial: https://apple.co/30uHqHe Relaxing Music 24/7, Stress Relief ...',\n",
       "    'thumbnails': {'default': {'url': 'https://i.ytimg.com/vi/e358oMDzGRg/default_live.jpg',\n",
       "      'width': 120,\n",
       "      'height': 90},\n",
       "     'medium': {'url': 'https://i.ytimg.com/vi/e358oMDzGRg/mqdefault_live.jpg',\n",
       "      'width': 320,\n",
       "      'height': 180},\n",
       "     'high': {'url': 'https://i.ytimg.com/vi/e358oMDzGRg/hqdefault_live.jpg',\n",
       "      'width': 480,\n",
       "      'height': 360}},\n",
       "    'channelTitle': 'Yellow Brick Cinema - Relaxing Music',\n",
       "    'liveBroadcastContent': 'live',\n",
       "    'publishTime': '2022-03-31T17:58:43Z'}},\n",
       "  {'kind': 'youtube#searchResult',\n",
       "   'etag': 'X09IKFSWuEup6_05uzDGfezeOzY',\n",
       "   'id': {'kind': 'youtube#video', 'videoId': 'hY9JZwRCR4U'},\n",
       "   'snippet': {'publishedAt': '2022-03-31T13:04:43Z',\n",
       "    'channelId': 'UCwobzUc3z-0PrFpoRxNszXQ',\n",
       "    'title': '🔴 Relaxing Music 24/7, Meditation Music, Sleep Music, Yoga, Zen, Sleeping Music, Study Music, Sleep',\n",
       "    'description': 'Get the new Yellow Brick Cinema iOS app for a 7-day FREE trial: https://apple.co/30uHqHe Relaxing Music 24/7, Meditation Music ...',\n",
       "    'thumbnails': {'default': {'url': 'https://i.ytimg.com/vi/hY9JZwRCR4U/default_live.jpg',\n",
       "      'width': 120,\n",
       "      'height': 90},\n",
       "     'medium': {'url': 'https://i.ytimg.com/vi/hY9JZwRCR4U/mqdefault_live.jpg',\n",
       "      'width': 320,\n",
       "      'height': 180},\n",
       "     'high': {'url': 'https://i.ytimg.com/vi/hY9JZwRCR4U/hqdefault_live.jpg',\n",
       "      'width': 480,\n",
       "      'height': 360}},\n",
       "    'channelTitle': 'Yellow Brick Cinema - Relaxing Music',\n",
       "    'liveBroadcastContent': 'live',\n",
       "    'publishTime': '2022-03-31T13:04:43Z'}},\n",
       "  {'kind': 'youtube#searchResult',\n",
       "   'etag': '59skH19V918Jw3TUNI_gaJiNfK4',\n",
       "   'id': {'kind': 'youtube#video', 'videoId': 'CbMqOfenEXI'},\n",
       "   'snippet': {'publishedAt': '2022-04-01T04:06:27Z',\n",
       "    'channelId': 'UC-DUviY2e-lnnclksWw_DJA',\n",
       "    'title': '🌌 Healing Sleep Music | Destroy unconscious blocks and negativity 🌌 Black Screen, fall asleep fast',\n",
       "    'description': 'Sleep is really important for everyone. After a good night sleep, you will have more energy and feel better. But if you have bad ...',\n",
       "    'thumbnails': {'default': {'url': 'https://i.ytimg.com/vi/CbMqOfenEXI/default_live.jpg',\n",
       "      'width': 120,\n",
       "      'height': 90},\n",
       "     'medium': {'url': 'https://i.ytimg.com/vi/CbMqOfenEXI/mqdefault_live.jpg',\n",
       "      'width': 320,\n",
       "      'height': 180},\n",
       "     'high': {'url': 'https://i.ytimg.com/vi/CbMqOfenEXI/hqdefault_live.jpg',\n",
       "      'width': 480,\n",
       "      'height': 360}},\n",
       "    'channelTitle': 'Meditation with TERA',\n",
       "    'liveBroadcastContent': 'live',\n",
       "    'publishTime': '2022-04-01T04:06:27Z'}},\n",
       "  {'kind': 'youtube#searchResult',\n",
       "   'etag': 'Nd0tKrlHSI07FHznlgw_-oLooTg',\n",
       "   'id': {'kind': 'youtube#video', 'videoId': 'pgAI4hxFj6I'},\n",
       "   'snippet': {'publishedAt': '2022-04-01T12:00:11Z',\n",
       "    'channelId': 'UCdf_vPmykYwCRPrFv7CkUlw',\n",
       "    'title': 'Beautiful Relaxing Music - Stress Relief Music, Positive Energy, Study Music, Meditation',\n",
       "    'description': 'Music to relax, meditate, study, read, massage, spa or sleep. This music is perfect to combat anxiety, stress or insomnia as it ...',\n",
       "    'thumbnails': {'default': {'url': 'https://i.ytimg.com/vi/pgAI4hxFj6I/default_live.jpg',\n",
       "      'width': 120,\n",
       "      'height': 90},\n",
       "     'medium': {'url': 'https://i.ytimg.com/vi/pgAI4hxFj6I/mqdefault_live.jpg',\n",
       "      'width': 320,\n",
       "      'height': 180},\n",
       "     'high': {'url': 'https://i.ytimg.com/vi/pgAI4hxFj6I/hqdefault_live.jpg',\n",
       "      'width': 480,\n",
       "      'height': 360}},\n",
       "    'channelTitle': 'Jenny Soothing Music ',\n",
       "    'liveBroadcastContent': 'live',\n",
       "    'publishTime': '2022-04-01T12:00:11Z'}}]}"
      ]
     },
     "execution_count": 27,
     "metadata": {},
     "output_type": "execute_result"
    }
   ],
   "source": [
    "res"
   ]
  },
  {
   "cell_type": "code",
   "execution_count": null,
   "id": "6b3aae23",
   "metadata": {},
   "outputs": [],
   "source": [
    "videos = []\n",
    "videos.append()"
   ]
  }
 ],
 "metadata": {
  "kernelspec": {
   "display_name": "Python [conda env:PythonDate] *",
   "language": "python",
   "name": "conda-env-PythonDate-py"
  },
  "language_info": {
   "codemirror_mode": {
    "name": "ipython",
    "version": 3
   },
   "file_extension": ".py",
   "mimetype": "text/x-python",
   "name": "python",
   "nbconvert_exporter": "python",
   "pygments_lexer": "ipython3",
   "version": "3.6.10"
  }
 },
 "nbformat": 4,
 "nbformat_minor": 5
}
